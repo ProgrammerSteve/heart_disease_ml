{
 "cells": [
  {
   "cell_type": "markdown",
   "id": "f3ff3b26-5ed4-4d60-96eb-d71017f7895e",
   "metadata": {},
   "source": [
    "# Predicting heart disease using machine learning\n",
    "\n",
    "This notebook looks into using various Python-based machine learning and data science libraries in an attempt to build a machine learning model capable of predicting whether or not someone has heart diseased based on their medical attributes."
   ]
  },
  {
   "cell_type": "code",
   "execution_count": null,
   "id": "fafb1434-2ec2-4456-b411-bc37c0daa4a2",
   "metadata": {},
   "outputs": [],
   "source": []
  }
 ],
 "metadata": {
  "kernelspec": {
   "display_name": "Python 3 (ipykernel)",
   "language": "python",
   "name": "python3"
  },
  "language_info": {
   "codemirror_mode": {
    "name": "ipython",
    "version": 3
   },
   "file_extension": ".py",
   "mimetype": "text/x-python",
   "name": "python",
   "nbconvert_exporter": "python",
   "pygments_lexer": "ipython3",
   "version": "3.10.13"
  }
 },
 "nbformat": 4,
 "nbformat_minor": 5
}
